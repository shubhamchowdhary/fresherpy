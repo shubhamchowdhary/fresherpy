{
 "cells": [
  {
   "cell_type": "code",
   "execution_count": 1,
   "metadata": {},
   "outputs": [],
   "source": [
    "#Given an array A containing n integers. The task is to check whether the array is Monotonic or not.\n",
    "\n",
    "# An array is monotonic if it is either monotone increasing or monotone decreasing."
   ]
  },
  {
   "cell_type": "code",
   "execution_count": 16,
   "metadata": {},
   "outputs": [
    {
     "name": "stdout",
     "output_type": "stream",
     "text": [
      "True\n"
     ]
    }
   ],
   "source": [
    "def monotonic(num):\n",
    "    #In this we use list comprehensions method for the comparison so this are the method\n",
    "    return(all(num[i]<= num[i+1] for i in range(len(num)-1))or\n",
    "           all(num[i] >= num[i+1] for i in range(len(num)-1)))\n",
    "\n",
    "num =[6,5,4,4]\n",
    "print(monotonic(num))\n"
   ]
  },
  {
   "cell_type": "code",
   "execution_count": 17,
   "metadata": {},
   "outputs": [],
   "source": [
    "# Write a program to find Cumulative sum of a list. \n",
    "#input = 10,20,30,40,50\n",
    "#output = 10,30,60,100,150"
   ]
  },
  {
   "cell_type": "code",
   "execution_count": 20,
   "metadata": {},
   "outputs": [
    {
     "name": "stdout",
     "output_type": "stream",
     "text": [
      "[10]\n",
      "[10, 30]\n",
      "[10, 30, 60]\n",
      "[10, 30, 60, 100]\n",
      "[10, 30, 60, 100, 150]\n"
     ]
    }
   ],
   "source": [
    "# first create a list \n",
    "\n",
    "list =[10,20,30,40,50]\n",
    "#mention the 0 th point to i to moveto the leng of the list\n",
    "i = 0\n",
    "# create a newlist that store our output for the cumulative sum\n",
    "cum =[]\n",
    "# then, take a new iterative and make a move from 0 to length of the list\n",
    "for j in range(0,len(list)):\n",
    "    #create a method , that we add by one number in the list till the length of the list\n",
    "    i+=list[j]\n",
    "    #then put the output on the new list\n",
    "    cum.append(i)\n",
    "    #print the new list\n",
    "    print(cum)"
   ]
  },
  {
   "cell_type": "code",
   "execution_count": 21,
   "metadata": {},
   "outputs": [],
   "source": [
    "# Given a string. The task is to print all words with even length in the given string.\n",
    "\n",
    "# Input: \"This is a python language\""
   ]
  },
  {
   "cell_type": "code",
   "execution_count": 23,
   "metadata": {},
   "outputs": [
    {
     "name": "stdout",
     "output_type": "stream",
     "text": [
      "This\n",
      "is\n",
      "python\n",
      "language\n"
     ]
    }
   ],
   "source": [
    "def printeven(str):\n",
    "    str = str.split(\" \")\n",
    "    for x in str:\n",
    "        if len(x)%2 == 0:\n",
    "            print(x)\n",
    "str = 'This is python language'\n",
    "printeven(str)"
   ]
  },
  {
   "cell_type": "code",
   "execution_count": null,
   "metadata": {},
   "outputs": [],
   "source": []
  }
 ],
 "metadata": {
  "kernelspec": {
   "display_name": "Python 2",
   "language": "python",
   "name": "python2"
  },
  "language_info": {
   "codemirror_mode": {
    "name": "ipython",
    "version": 2
   },
   "file_extension": ".py",
   "mimetype": "text/x-python",
   "name": "python",
   "nbconvert_exporter": "python",
   "pygments_lexer": "ipython2",
   "version": "2.7.18"
  }
 },
 "nbformat": 4,
 "nbformat_minor": 2
}
