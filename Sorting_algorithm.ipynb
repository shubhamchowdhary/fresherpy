{
 "cells": [
  {
   "cell_type": "code",
   "execution_count": 10,
   "metadata": {},
   "outputs": [
    {
     "name": "stdout",
     "output_type": "stream",
     "text": [
      "[2, 3, 5, 6, 7, 8]\n"
     ]
    }
   ],
   "source": [
    "#Sorting\n",
    "\n",
    "#insertion,selection,bubble,quick,merge,count,bucket,radix,heap,tim\n",
    "\n",
    "#Selection:\n",
    "\n",
    "def selection_sort(num):\n",
    "    for i in range(len(num)):\n",
    "        min_pos=i  #in this, the i is holding a minimum position that is('0') and that 0 is store in min_pos.\n",
    "        for j in range(i+1,len(num)):  #in this j will lookup for unsorted one and it increase 0 to 1 pos to the length of num.\n",
    "            if num[j]<num[min_pos]:    #in this we have to find the minvalue so take a minpos that is 0 and its holding a (5)\n",
    "                                            #and then we can compare with all the number in the list. \n",
    "                                            #if you get the min value you simply change the minpos\n",
    "                min_pos = j # change the value if you find it. if not then it will remain on the same position\n",
    "        num[i],num[min_pos]=num[min_pos],num[i] # after getting a min value then do the swapping process\n",
    "        \n",
    "num =[5,3,8,6,7,2]\n",
    "selection_sort(num)\n",
    "print(num)\n",
    "            \n",
    "                \n",
    "        \n"
   ]
  },
  {
   "cell_type": "code",
   "execution_count": 13,
   "metadata": {},
   "outputs": [
    {
     "name": "stdout",
     "output_type": "stream",
     "text": [
      "[2, 3, 5, 6, 7, 8]\n"
     ]
    }
   ],
   "source": [
    "#Bubble sort:\n",
    "# in this we have to check the greates number should be at the end \n",
    "# os it will decreased to lowest\n",
    "# high-> low\n",
    "#And it will check by the pair \n",
    "\n",
    "def Bubble_sort(num):\n",
    "    for i in range(len(num)-1,0,-1):#In this the going process is start with the high to low in descending order.\n",
    "                                    #So len(num)-1 is starting point, 0 is the end point,\n",
    "                                    #-1 is the iterating process(going in a descending way)\n",
    "        for j in range(i): # in this the range is the were to go means if i is 5 it will go 5 to 0 or\n",
    "                                #if i is 6 it will go to 0 like this way.\n",
    "                if num[j]>num[j+1]: #if j value is greater to sexond value then it will swap.that's work\n",
    "                    num[j],num[j+1]=num[j+1],num[j]\n",
    "                \n",
    "        \n",
    "num =[5,3,8,6,7,2]\n",
    "Bubble_sort(num)\n",
    "print(num)"
   ]
  },
  {
   "cell_type": "code",
   "execution_count": 21,
   "metadata": {},
   "outputs": [
    {
     "name": "stdout",
     "output_type": "stream",
     "text": [
      "[3, 5, 8, 9, 67]\n"
     ]
    }
   ],
   "source": [
    "#insertion sort:\n",
    "def insertion_sort(nums):\n",
    "    # Start on the second element as we assume the first element is sorted\n",
    "    for i in range(1, len(nums)):\n",
    "        item_to_insert = nums[i]\n",
    "        # And keep a reference of the index of the previous element\n",
    "        j = i - 1\n",
    "        # Move all items of the sorted segment forward if they are larger than\n",
    "        # the item to insert\n",
    "        while j >= 0 and nums[j] > item_to_insert:\n",
    "            nums[j + 1] = nums[j]\n",
    "            j -= 1\n",
    "        # Insert the item\n",
    "        nums[j + 1] = item_to_insert\n",
    "    \n",
    "nums =[5,3,8,67,9]\n",
    "insertion_sort(nums)\n",
    "print(nums)"
   ]
  },
  {
   "cell_type": "code",
   "execution_count": 1,
   "metadata": {},
   "outputs": [
    {
     "name": "stdout",
     "output_type": "stream",
     "text": [
      "[3, 5, 8, 9, 67]\n"
     ]
    }
   ],
   "source": [
    "# Another easy of solving insertion sort\n",
    "\n",
    "num= [5,30,8,67,9]\n",
    "\n",
    "for i in range(1,len(num)): # sorting start with the 1 position that is 30 and for len(num) means in the array's lenght is 4\n",
    "    current_val = num[i] # taken as variable that store the position1 that is 30 and how we refernece by i.\n",
    "    position= i # know i have to declare pointer means how it will point to my list i is taken for iterating the for loop i.e.(i:in the sence of variable)\n",
    "    while (position > 0 and num[position-1] > current_val): #first the position is greater then 0 is taken for which my pointer do go on 0 position \n",
    "                                                            #that's why we have taken greater then 0.\n",
    "                                                            #Second the num[position -1] is for 30 that it should be greater then current value which is 8 for that its taken as >current_value\n",
    "                                                            #then he can swap the number for -1 it will go on greater number on the right and less number will be on left side\n",
    "        num[position]=num[position-1] # swapping take place.\n",
    "        position=position-1  # decrease my pointer value means 8 will come on the 30 number place\n",
    "                              #and 30 number will come on 8 place\n",
    "    num[position]=current_val # num{position} means when our while go terminate the position will be 30\n",
    "                               #and the current value will be 8 so it will get swap(it will get store)\n",
    "print(num)"
   ]
  },
  {
   "cell_type": "code",
   "execution_count": 10,
   "metadata": {},
   "outputs": [
    {
     "name": "stdout",
     "output_type": "stream",
     "text": [
      "[1, 5, 23, 28, 33, 34, 56, 89]\n"
     ]
    }
   ],
   "source": [
    "#Merge sort:\n",
    "\n",
    "\n",
    "def merge_sort(num):\n",
    "    if len(num)>1: # the len(num) must be greater then the element 1\n",
    "        mid = len(num)/2 # split the element into two halve\n",
    "        left_list = num[:mid] # in this, the left_list should be start with 0 to mid(means middle one)\n",
    "        right_list = num[mid:]#in this, the right_list should be start with mid to last number of the element of the array.\n",
    "        merge_sort(left_list)#recursive call, means it call it self to more divide on the both the sublist side of the left hand part)\n",
    "        merge_sort(right_list)#recursive call, means it call it self to more divide on the both the sublist side of the right hand part)\n",
    "#it will go into the loop for stopping this if condition is taken in this part \"if len(num)>1\"\n",
    "#And for merging part.\n",
    "        i=0 # i is taken for the left side of the first element of the array it is use for reference\n",
    "        j=0# j is taken for the right side of the first element of the array it is use for reference\n",
    "        k=0# And the k will be the real sorted array where unsorted array element will be place in this k array part.\n",
    "        while i< len(left_list) and j<len(right_list):# for comparing Purpose it as to state that i should be smaller then the len of the left side list and the same goes on the right side list.\n",
    "            if left_list[i] < right_list[j]: # if left side element is smaller then right side element  then in k array part ,the smaller left side element will be sloted\n",
    "                num[k] = left_list[i]\n",
    "                i=i+1  # if the i is incrementing then k also be increment for the comparing purpose.\n",
    "                k=k+1\n",
    "            else:\n",
    "                num[k] = right_list[j] # if not then right side element willb e sloted in the k array element \n",
    "                j=j+1\n",
    "                k=k+1 # same as above\n",
    "        while i< len(left_list): # this while loop taken for if any one element is left for compare to right ,but on the right side no element is there to compare then the element will not sloted\n",
    "            num[k]= left_list[i] # for that purpose if have to slote the element as it is. \n",
    "            i=i+1\n",
    "            k=k+1\n",
    "        while j< len(right_list): # same reasons as above\n",
    "            num[k]= right_list[j]# same reasons as above\n",
    "            j=j+1\n",
    "            k=k+1\n",
    "            \n",
    "num = [5,89,23,34,56,33,1,28]\n",
    "merge_sort(num)\n",
    "print(num)\n",
    "            \n",
    "\n",
    "\n",
    "\n",
    "\n",
    "\n",
    "\n"
   ]
  },
  {
   "cell_type": "code",
   "execution_count": 13,
   "metadata": {},
   "outputs": [
    {
     "name": "stdout",
     "output_type": "stream",
     "text": [
      "[1, 5, 22, 34, 54, 78]\n"
     ]
    }
   ],
   "source": [
    "#Quick Sort:\n",
    "\n",
    "def quick_sort(sequence):\n",
    "    lenght = len(sequence)\n",
    "    if lenght<=1:\n",
    "        return sequence  #in this its allow us to skip our sequences that have a lenght of 1 or 0\n",
    "    else:\n",
    "        pivot = sequence.pop() #we just setting our pivot and for pop means it remove that last element and also return it \n",
    "    items_greater=[] #created two list that can move item to and we can compare it to our pivot point.\n",
    "    items_lower=[]\n",
    "    #comparison on each of the item left in the sequence to our pivot point,we can do by.\n",
    "    for item in sequence:\n",
    "        if item > pivot:\n",
    "            items_greater.append(item)\n",
    "        else:  #in this two ,what we need to do is to apply this algorithm over and over to each of the sublist that we created\n",
    "            items_lower.append(item)\n",
    "            \n",
    "    return quick_sort(items_lower) +[pivot]+ quick_sort(items_greater) #in this say that return should apply this algorithm again to each of the items lower we should have the pivot point in the center and (\"it does the concatenate\")\n",
    "\n",
    "print(quick_sort([5,78,54,1,22,34]))\n",
    "            \n",
    "            "
   ]
  },
  {
   "cell_type": "code",
   "execution_count": null,
   "metadata": {},
   "outputs": [],
   "source": []
  }
 ],
 "metadata": {
  "kernelspec": {
   "display_name": "Python 2",
   "language": "python",
   "name": "python2"
  },
  "language_info": {
   "codemirror_mode": {
    "name": "ipython",
    "version": 2
   },
   "file_extension": ".py",
   "mimetype": "text/x-python",
   "name": "python",
   "nbconvert_exporter": "python",
   "pygments_lexer": "ipython2",
   "version": "2.7.18"
  }
 },
 "nbformat": 4,
 "nbformat_minor": 2
}
