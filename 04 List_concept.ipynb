{
 "cells": [
  {
   "cell_type": "code",
   "execution_count": 3,
   "metadata": {},
   "outputs": [
    {
     "name": "stdout",
     "output_type": "stream",
     "text": [
      "['my', 'name', 'is', 'naruto']\n"
     ]
    }
   ],
   "source": [
    "#list concept:\n",
    "# it is mutuable\n",
    "# list is sequence\n",
    "# each item is assign to its index\n",
    "\n",
    "#Concatenate: adding two list index wise\n",
    "\n",
    "list1 =[\"m\",\"na\",\"i\",\"nar\"]\n",
    "list2 =[\"y\",\"me\",\"s\",\"uto\"]\n",
    "#list3 =list1+list2 # simple way of concatenating\n",
    "list3 =[ i+j for i,j in zip(list1,list2)] # it is done by zip and for loop method.\n",
    "print(list3)\n",
    "\n",
    "\n"
   ]
  },
  {
   "cell_type": "code",
   "execution_count": 7,
   "metadata": {},
   "outputs": [
    {
     "name": "stdout",
     "output_type": "stream",
     "text": [
      "[1, 4, 9, 16, 25]\n"
     ]
    }
   ],
   "source": [
    "# Given a python list turn every item of a list into ists square.\n",
    "\n",
    "list =[1,2,3,4,5]\n",
    "list =[x*x for x in list]\n",
    "print (list)"
   ]
  },
  {
   "cell_type": "code",
   "execution_count": 10,
   "metadata": {},
   "outputs": [
    {
     "name": "stdout",
     "output_type": "stream",
     "text": [
      "(10, 4)\n",
      "(20, 3)\n",
      "(30, 2)\n",
      "(40, 1)\n"
     ]
    }
   ],
   "source": [
    "# Given a two python list iterate both its simultaneously such that list 1 should display item in object order and list 2 in reverse order.\n",
    "\n",
    "list1 =[10,20,30,40]\n",
    "list2 =[1,2,3,4]\n",
    "for x,y in zip(list1,list2[::-1]):\n",
    "    print(x,y)"
   ]
  },
  {
   "cell_type": "code",
   "execution_count": 20,
   "metadata": {},
   "outputs": [
    {
     "name": "stdout",
     "output_type": "stream",
     "text": [
      "[5, 3, 50, 700, 'vaal', 320, 8, 10]\n"
     ]
    }
   ],
   "source": [
    "#Given a python list remove all occurence of 20 from the list\n",
    "\n",
    "list1 =[5,3,20,50,700,'vaal',20,320,8,20,10]\n",
    "def removevalue(samplelist,val):\n",
    "    return [value for value in samplelist if value!=val] # != means if in value we put 20 it check that val doesnot contain any 20 :. that why it remove all 20 digit\n",
    "relist = removevalue(list1,20)                                         #if value we put 20 and it == to val then it shows all 20 number in the list.\n",
    "\n",
    "print(relist)"
   ]
  },
  {
   "cell_type": "code",
   "execution_count": null,
   "metadata": {},
   "outputs": [],
   "source": []
  }
 ],
 "metadata": {
  "kernelspec": {
   "display_name": "Python 2",
   "language": "python",
   "name": "python2"
  },
  "language_info": {
   "codemirror_mode": {
    "name": "ipython",
    "version": 2
   },
   "file_extension": ".py",
   "mimetype": "text/x-python",
   "name": "python",
   "nbconvert_exporter": "python",
   "pygments_lexer": "ipython2",
   "version": "2.7.18"
  }
 },
 "nbformat": 4,
 "nbformat_minor": 2
}
