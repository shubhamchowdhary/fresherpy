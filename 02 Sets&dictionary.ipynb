{
 "cells": [
  {
   "cell_type": "code",
   "execution_count": 1,
   "metadata": {},
   "outputs": [
    {
     "name": "stdout",
     "output_type": "stream",
     "text": [
      "set(['python', 'machine', 'artifical'])\n"
     ]
    }
   ],
   "source": [
    "#Set: A Set is an unordered collection data type that is iterable, mutable and has no duplicate elements.\n",
    "#example: \n",
    "set_example= {\"python\",\"machine\",\"artifical\"}\n",
    "print(set_example)"
   ]
  },
  {
   "cell_type": "code",
   "execution_count": 2,
   "metadata": {},
   "outputs": [
    {
     "name": "stdout",
     "output_type": "stream",
     "text": [
      "set(['python', 'machine', 'artifical', 'deep learning'])\n"
     ]
    }
   ],
   "source": [
    "set_example.add(\"deep learning\") #it will add in the last element of the list.\n",
    "print(set_example)"
   ]
  },
  {
   "cell_type": "code",
   "execution_count": 5,
   "metadata": {},
   "outputs": [
    {
     "name": "stdout",
     "output_type": "stream",
     "text": [
      "set([' ', 'deep learning', 'machine', 'u', 'python', 'L', 'N', 'P', 'a', 'c', 'b', 'e', 'd', 'g', 'i', 'm', 'l', 'o', 'n', 'p', 's', 'r', 'artifical', 't', 'v'])\n",
      "25\n"
     ]
    }
   ],
   "source": [
    "set_example.update(\"nlp\",\"big data\",\"computervision\")\n",
    "print(set_example)\n",
    "print(len(set_example))\n"
   ]
  },
  {
   "cell_type": "code",
   "execution_count": 11,
   "metadata": {},
   "outputs": [
    {
     "ename": "KeyError",
     "evalue": "'computervision'",
     "output_type": "error",
     "traceback": [
      "\u001b[1;31m---------------------------------------------------------------------------\u001b[0m",
      "\u001b[1;31mKeyError\u001b[0m                                  Traceback (most recent call last)",
      "\u001b[1;32m<ipython-input-11-c39c501277ec>\u001b[0m in \u001b[0;36m<module>\u001b[1;34m()\u001b[0m\n\u001b[1;32m----> 1\u001b[1;33m \u001b[0mset_example\u001b[0m\u001b[1;33m.\u001b[0m\u001b[0mremove\u001b[0m\u001b[1;33m(\u001b[0m\u001b[1;34m\"computervision\"\u001b[0m\u001b[1;33m)\u001b[0m\u001b[1;33m\u001b[0m\u001b[0m\n\u001b[0m\u001b[0;32m      2\u001b[0m \u001b[1;33m\u001b[0m\u001b[0m\n",
      "\u001b[1;31mKeyError\u001b[0m: 'computervision'"
     ]
    }
   ],
   "source": [
    "#remove function will remove the value from specific value from the position of the set\n",
    "\n",
    "set_example.remove(\"computervision\")\n",
    "# i don't know why is not giving couz this right #remove function is right\n"
   ]
  },
  {
   "cell_type": "code",
   "execution_count": 13,
   "metadata": {},
   "outputs": [],
   "source": [
    "#emoves the element from the set only if the element is present in the set.\n",
    "\n",
    "set_example.discard(\"nlp\")\n"
   ]
  },
  {
   "cell_type": "code",
   "execution_count": 14,
   "metadata": {},
   "outputs": [
    {
     "data": {
      "text/plain": [
       "' '"
      ]
     },
     "execution_count": 14,
     "metadata": {},
     "output_type": "execute_result"
    }
   ],
   "source": [
    "# deletes the element at the position mentioned in its arguments.\n",
    "\n",
    "set_example.pop()"
   ]
  },
  {
   "cell_type": "code",
   "execution_count": 15,
   "metadata": {},
   "outputs": [],
   "source": [
    "# clear means clearing the whole value in the bracket\n",
    "set_example.clear()"
   ]
  },
  {
   "cell_type": "code",
   "execution_count": 16,
   "metadata": {},
   "outputs": [],
   "source": [
    "# det function  for delete the whole list\n",
    "\n",
    "del set_example"
   ]
  },
  {
   "cell_type": "code",
   "execution_count": 17,
   "metadata": {},
   "outputs": [
    {
     "name": "stdout",
     "output_type": "stream",
     "text": [
      "set(['a', 1, 'c', 'b', 3, 2])\n"
     ]
    }
   ],
   "source": [
    "#Union function..........\n",
    "\n",
    "set1 = {'a','b','c'}\n",
    "set2 = {1,2,3}\n",
    "set3 = set1.union(set2) # for joining to sets union\n",
    "print (set3)"
   ]
  },
  {
   "cell_type": "code",
   "execution_count": 18,
   "metadata": {},
   "outputs": [
    {
     "name": "stdout",
     "output_type": "stream",
     "text": [
      "set(['a', 1, 'c', 'b', 3, 2])\n"
     ]
    }
   ],
   "source": [
    "\n",
    "#update function........\n",
    "\n",
    "\n",
    "set1.update(set2) # in update function no use of taking third variable we can just made by 2 variable with the upadte function.\n",
    "print(set1) # and it will join the two set."
   ]
  },
  {
   "cell_type": "code",
   "execution_count": 19,
   "metadata": {},
   "outputs": [
    {
     "name": "stdout",
     "output_type": "stream",
     "text": [
      "set(['natural learning', 'deeplearning', 'machinelearning'])\n"
     ]
    }
   ],
   "source": [
    "# Constructor  calling by the same name of the variable that we're putting\n",
    "\n",
    "set_example = set((\"machinelearning\",\"deeplearning\",\"natural learning\"))\n",
    "print(set_example)"
   ]
  },
  {
   "cell_type": "code",
   "execution_count": 20,
   "metadata": {},
   "outputs": [],
   "source": [
    "# #Sets VS  Dicitionary\n",
    "# Different in the sense\n",
    "# used in cases where order does not matter\n",
    "# Sets are especially useful when you need to ensure that an item only appears once  in the set.\n",
    "# Dictionary are used to store key value pairs and are used when you want to easily find a value using a key,just like in a dictionary\n"
   ]
  },
  {
   "cell_type": "code",
   "execution_count": 22,
   "metadata": {},
   "outputs": [
    {
     "name": "stdout",
     "output_type": "stream",
     "text": [
      "('course:', 'python')\n",
      "('course:', 'machine')\n",
      "('course:', 'datascience')\n"
     ]
    }
   ],
   "source": [
    "set_example = {\"python\",\"machine\",\"datascience\"}\n",
    "for course in set_example:\n",
    "    print(\"course:\",course)"
   ]
  },
  {
   "cell_type": "code",
   "execution_count": 23,
   "metadata": {},
   "outputs": [
    {
     "name": "stdout",
     "output_type": "stream",
     "text": [
      "True\n"
     ]
    }
   ],
   "source": [
    "# in : it check the value is present or not in the sets .\n",
    "print(\"python\" in set_example)"
   ]
  },
  {
   "cell_type": "code",
   "execution_count": null,
   "metadata": {},
   "outputs": [],
   "source": []
  }
 ],
 "metadata": {
  "kernelspec": {
   "display_name": "Python 2",
   "language": "python",
   "name": "python2"
  },
  "language_info": {
   "codemirror_mode": {
    "name": "ipython",
    "version": 2
   },
   "file_extension": ".py",
   "mimetype": "text/x-python",
   "name": "python",
   "nbconvert_exporter": "python",
   "pygments_lexer": "ipython2",
   "version": "2.7.18"
  }
 },
 "nbformat": 4,
 "nbformat_minor": 2
}
