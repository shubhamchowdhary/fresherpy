{
  "nbformat": 4,
  "nbformat_minor": 0,
  "metadata": {
    "colab": {
      "name": "PythonAssignment.ipynb",
      "provenance": [],
      "include_colab_link": true
    },
    "kernelspec": {
      "name": "python3",
      "display_name": "Python 3"
    }
  },
  "cells": [
    {
      "cell_type": "markdown",
      "metadata": {
        "id": "view-in-github",
        "colab_type": "text"
      },
      "source": [
        "<a href=\"https://colab.research.google.com/github/shubhamchowdhary/fresherpy/blob/main/PythonAssignment.ipynb\" target=\"_parent\"><img src=\"https://colab.research.google.com/assets/colab-badge.svg\" alt=\"Open In Colab\"/></a>"
      ]
    },
    {
      "cell_type": "code",
      "metadata": {
        "id": "x6A5kBKvAERP"
      },
      "source": [
        ""
      ],
      "execution_count": null,
      "outputs": []
    },
    {
      "cell_type": "markdown",
      "metadata": {
        "id": "ZpHi5QHDt3aL"
      },
      "source": [
        "Given an array A containing n integers. The task is to check whether the array is Monotonic or not. \n",
        "\n",
        "An array is monotonic if it is either monotone increasing or monotone decreasing.\n",
        "\n",
        "Input : 6 5 4 4\n",
        "\n",
        "Output : true\n",
        "\n",
        "Input : 5 15 20 10\n",
        "\n",
        "Output : false\n"
      ]
    },
    {
      "cell_type": "code",
      "metadata": {
        "id": "FmhNE79LuZBz",
        "outputId": "474b1c77-bc8a-4cc0-b745-b2d87be34887",
        "colab": {
          "base_uri": "https://localhost:8080/"
        }
      },
      "source": [
        "#solution\r\n",
        "\r\n",
        "def monotonic(num): \r\n",
        "  \r\n",
        "    return (all(num[i] <= num[i + 1] for i in range(len(num) - 1)) or\r\n",
        "            all(num[i] >= num[i + 1] for i in range(len(num) - 1))) \r\n",
        "\r\n",
        "num = [5,15,20,10] \r\n",
        "print(monotonic(num))"
      ],
      "execution_count": 14,
      "outputs": [
        {
          "output_type": "stream",
          "text": [
            "False\n"
          ],
          "name": "stdout"
        }
      ]
    },
    {
      "cell_type": "markdown",
      "metadata": {
        "id": "fhq2yDwhu-7P"
      },
      "source": [
        "Write a program to find Cumulative sum of a list. \n",
        "\n",
        "Input : list = [10, 20, 30, 40, 50]\n",
        "\n",
        "Output : [10, 30, 60, 100, 150]\n"
      ]
    },
    {
      "cell_type": "code",
      "metadata": {
        "id": "xn8BYpOJv3Rn",
        "outputId": "424d0d61-a04d-49a6-fee9-cbdd5e80cdce",
        "colab": {
          "base_uri": "https://localhost:8080/"
        }
      },
      "source": [
        "input = [10,20,30,40,50]\r\n",
        "\r\n",
        "i = 0\r\n",
        "new=[]\r\n",
        "\r\n",
        "for j in range(0,len(input)):\r\n",
        "  i+=input[j]\r\n",
        "  new.append(i)\r\n",
        "print(new)"
      ],
      "execution_count": 2,
      "outputs": [
        {
          "output_type": "stream",
          "text": [
            "[10, 30, 60, 100, 150]\n"
          ],
          "name": "stdout"
        }
      ]
    },
    {
      "cell_type": "markdown",
      "metadata": {
        "id": "IIljg2dhw-5f"
      },
      "source": [
        "Given a string. The task is to print all words with even length in the given string.\n",
        "\n",
        "Input: s = \"This is a python language\"\n",
        "\n",
        "Output:\n",
        "\n",
        "        This\n",
        "\n",
        "        is\n",
        "\n",
        "        python\n",
        "\n",
        "        language \n",
        "                        "
      ]
    },
    {
      "cell_type": "code",
      "metadata": {
        "id": "B1A9W02kx1ys",
        "outputId": "69562568-155c-49b9-edd9-787d9de25f2d",
        "colab": {
          "base_uri": "https://localhost:8080/"
        }
      },
      "source": [
        "def evenletter(num):\r\n",
        "  num = num.split(\" \")\r\n",
        "  for x in num:\r\n",
        "    if len(x)%2==0:\r\n",
        "      print(x)\r\n",
        "list = \"This is python language\"\r\n",
        "evenletter(list)"
      ],
      "execution_count": 11,
      "outputs": [
        {
          "output_type": "stream",
          "text": [
            "This\n",
            "is\n",
            "python\n",
            "language\n"
          ],
          "name": "stdout"
        }
      ]
    }
  ]
}