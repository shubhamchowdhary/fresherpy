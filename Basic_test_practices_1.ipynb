{
 "cells": [
  {
   "cell_type": "markdown",
   "id": "spoken-moldova",
   "metadata": {},
   "source": [
    "## Basic Test Practices"
   ]
  },
  {
   "cell_type": "code",
   "execution_count": 14,
   "id": "local-attitude",
   "metadata": {},
   "outputs": [
    {
     "name": "stdout",
     "output_type": "stream",
     "text": [
      "{2: [1, 2], (1, 2): 2}\n"
     ]
    }
   ],
   "source": [
    "d = {2:[1,2],}\n",
    "d[1,2] =2\n",
    "print(d)"
   ]
  },
  {
   "cell_type": "code",
   "execution_count": 7,
   "id": "annual-repeat",
   "metadata": {},
   "outputs": [
    {
     "name": "stdout",
     "output_type": "stream",
     "text": [
      "[1, 2, 3, 4, 5]\n",
      "1 2 3 4 5\n"
     ]
    }
   ],
   "source": [
    "print([i+1 for i in range(5)])\n",
    "print(*[i+1 for i in range(5)])"
   ]
  },
  {
   "cell_type": "code",
   "execution_count": 9,
   "id": "still-restoration",
   "metadata": {},
   "outputs": [
    {
     "name": "stdout",
     "output_type": "stream",
     "text": [
      "[1, 2, 3, 4, 5, 6]\n"
     ]
    }
   ],
   "source": [
    "a = list(range(1,4))\n",
    "b = [1,2,3,4,5,6][3:]\n",
    "print(a+b)"
   ]
  },
  {
   "cell_type": "code",
   "execution_count": 1,
   "id": "settled-korea",
   "metadata": {},
   "outputs": [
    {
     "name": "stdout",
     "output_type": "stream",
     "text": [
      "4\n"
     ]
    }
   ],
   "source": [
    "def fun(n):\n",
    "    print(n*2)\n",
    "if __name__ == \"__main__\":\n",
    "    fun(2)"
   ]
  },
  {
   "cell_type": "code",
   "execution_count": 2,
   "id": "acting-exclusion",
   "metadata": {},
   "outputs": [
    {
     "name": "stdout",
     "output_type": "stream",
     "text": [
      "[1,2,3][4,5,6]\n"
     ]
    }
   ],
   "source": [
    "a= '[1,2,3]'\n",
    "b= '[4,5,6]'\n",
    "print(a+b)"
   ]
  },
  {
   "cell_type": "code",
   "execution_count": 3,
   "id": "prompt-illness",
   "metadata": {},
   "outputs": [
    {
     "name": "stdout",
     "output_type": "stream",
     "text": [
      "{1: 'b', 0: 'a'}\n"
     ]
    }
   ],
   "source": [
    "d={1:'a'}\n",
    "d[0]=\"a\"   # modification\n",
    "d[1]=\"b\"\n",
    "print(d)"
   ]
  },
  {
   "cell_type": "code",
   "execution_count": 6,
   "id": "retained-dietary",
   "metadata": {},
   "outputs": [
    {
     "name": "stdout",
     "output_type": "stream",
     "text": [
      "1+2+3+4+5\n"
     ]
    }
   ],
   "source": [
    "print('+'.join(list(\"12345\")))"
   ]
  },
  {
   "cell_type": "code",
   "execution_count": 12,
   "id": "cosmetic-montreal",
   "metadata": {},
   "outputs": [
    {
     "name": "stdout",
     "output_type": "stream",
     "text": [
      "{(1, 2): 3, 3: (1, 7)}\n"
     ]
    }
   ],
   "source": [
    "d={}\n",
    "d[1,2]=3\n",
    "d[3]=1,7\n",
    "print(d)"
   ]
  },
  {
   "cell_type": "code",
   "execution_count": 26,
   "id": "fallen-international",
   "metadata": {},
   "outputs": [
    {
     "name": "stdout",
     "output_type": "stream",
     "text": [
      "<class 'tuple'>\n",
      "<class 'list'>\n",
      "<class 'dict'>\n"
     ]
    }
   ],
   "source": [
    "d={}\n",
    "e=[]\n",
    "f=()\n",
    "\n",
    "print(type(f))\n",
    "print(type(e))\n",
    "print(type(d))"
   ]
  },
  {
   "cell_type": "code",
   "execution_count": 28,
   "id": "identical-marsh",
   "metadata": {},
   "outputs": [
    {
     "ename": "TypeError",
     "evalue": "'dict' object is not callable",
     "output_type": "error",
     "traceback": [
      "\u001b[0;31m---------------------------------------------------------------------------\u001b[0m",
      "\u001b[0;31mTypeError\u001b[0m                                 Traceback (most recent call last)",
      "\u001b[0;32m<ipython-input-28-7e98505ba10d>\u001b[0m in \u001b[0;36m<module>\u001b[0;34m\u001b[0m\n\u001b[0;32m----> 1\u001b[0;31m \u001b[0ma\u001b[0m \u001b[0;34m=\u001b[0m \u001b[0mset\u001b[0m\u001b[0;34m(\u001b[0m\u001b[0;34m)\u001b[0m\u001b[0;34m\u001b[0m\u001b[0;34m\u001b[0m\u001b[0m\n\u001b[0m\u001b[1;32m      2\u001b[0m \u001b[0mprint\u001b[0m\u001b[0;34m(\u001b[0m\u001b[0mtype\u001b[0m\u001b[0;34m(\u001b[0m\u001b[0ma\u001b[0m\u001b[0;34m)\u001b[0m\u001b[0;34m)\u001b[0m\u001b[0;34m\u001b[0m\u001b[0;34m\u001b[0m\u001b[0m\n",
      "\u001b[0;31mTypeError\u001b[0m: 'dict' object is not callable"
     ]
    }
   ],
   "source": [
    "a = set()\n",
    "print(type(a)) #is not happen because my python version is 2 it will supported in py-v-3"
   ]
  },
  {
   "cell_type": "code",
   "execution_count": null,
   "id": "healthy-wallet",
   "metadata": {},
   "outputs": [],
   "source": []
  }
 ],
 "metadata": {
  "kernelspec": {
   "display_name": "Python 3",
   "language": "python",
   "name": "python3"
  },
  "language_info": {
   "codemirror_mode": {
    "name": "ipython",
    "version": 3
   },
   "file_extension": ".py",
   "mimetype": "text/x-python",
   "name": "python",
   "nbconvert_exporter": "python",
   "pygments_lexer": "ipython3",
   "version": "3.6.13"
  }
 },
 "nbformat": 4,
 "nbformat_minor": 5
}
