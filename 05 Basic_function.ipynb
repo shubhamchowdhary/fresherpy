{
 "cells": [
  {
   "cell_type": "code",
   "execution_count": 1,
   "metadata": {},
   "outputs": [
    {
     "name": "stdout",
     "output_type": "stream",
     "text": [
      "(5, -1)\n"
     ]
    }
   ],
   "source": [
    "# Basic function\n",
    "# write a function calculation such that it can accept two variable and calculate the add and substraction of it and also it must return both add & sub in a single return call\n",
    "\n",
    "def calculation(a,b):\n",
    "    return a+b, a-b\n",
    "res = calculation(2,3)\n",
    "print (res)"
   ]
  },
  {
   "cell_type": "code",
   "execution_count": 17,
   "metadata": {},
   "outputs": [
    {
     "name": "stdout",
     "output_type": "stream",
     "text": [
      "55\n"
     ]
    }
   ],
   "source": [
    "# write a recursive function to calculate the sum of number from 0 to 10. The expected output: 55\n",
    "\n",
    "def calculation(num):\n",
    "    if num:\n",
    "        return num + calculation(num-1)\n",
    "    else:\n",
    "        return 0\n",
    "res = calculation(10)\n",
    "print (res)"
   ]
  },
  {
   "cell_type": "code",
   "execution_count": 20,
   "metadata": {},
   "outputs": [
    {
     "name": "stdout",
     "output_type": "stream",
     "text": [
      "[4, 6, 8, 10, 12, 14, 16, 18, 20, 22, 24, 26, 28]\n"
     ]
    }
   ],
   "source": [
    "#Generate python list of all the even number between 4 to 30\n",
    "\n",
    "print (list(range(4,30,2)))"
   ]
  },
  {
   "cell_type": "code",
   "execution_count": 21,
   "metadata": {},
   "outputs": [
    {
     "name": "stdout",
     "output_type": "stream",
     "text": [
      "78\n"
     ]
    }
   ],
   "source": [
    "#Return the largest item from the given\n",
    "list =[4,6,7,24,78]\n",
    "print (max(list))"
   ]
  },
  {
   "cell_type": "code",
   "execution_count": 22,
   "metadata": {},
   "outputs": [
    {
     "name": "stdout",
     "output_type": "stream",
     "text": [
      "8\n"
     ]
    }
   ],
   "source": [
    "#lambda function :\n",
    "# while normal function are defined using def keyword in python\n",
    "# Anonymous function are defined using lambda function keyword lambda\n",
    "\n",
    "double = lambda x:x*2\n",
    "print(double(4))"
   ]
  },
  {
   "cell_type": "code",
   "execution_count": 23,
   "metadata": {},
   "outputs": [
    {
     "name": "stdout",
     "output_type": "stream",
     "text": [
      "8\n"
     ]
    }
   ],
   "source": [
    "#this function has no name.it return a funciton object which is assign to the identifier \"double\". we can now  call it as a normal fucntion\n",
    "# double = lambda x:x*2\n",
    "# is nearly the same\n",
    "\n",
    "def double(x):\n",
    "    return x*2\n",
    "s=double(4)\n",
    "print (s)"
   ]
  },
  {
   "cell_type": "code",
   "execution_count": 37,
   "metadata": {},
   "outputs": [
    {
     "name": "stdout",
     "output_type": "stream",
     "text": [
      "set([8, 12, 4, 6])\n"
     ]
    }
   ],
   "source": [
    "#lambda function need short period of time for a nameless function\n",
    "#lambda function as built in fucntion(filter, map etc)\n",
    "#filter() function in Python takes in a function and a list as arguments.\n",
    "my_list=[1, 5, 4, 6, 8, 11, 3, 12]\n",
    "new_list = set(filter(lambda x:(x%2 == 0),my_list))\n",
    "print (new_list)"
   ]
  },
  {
   "cell_type": "code",
   "execution_count": 39,
   "metadata": {},
   "outputs": [
    {
     "name": "stdout",
     "output_type": "stream",
     "text": [
      "set([2, 6, 8, 10, 12, 16, 22, 24])\n"
     ]
    }
   ],
   "source": [
    "#filter: the function is called with all the items in the list and a new_list is returned which contain items for which the fucntion evalutae to true\n",
    "#The map() function in Python takes in a function and a list.\n",
    "#The function is called with all the items in the list and a new list is returned which contains items returned by that function for each item.\n",
    "\n",
    "my_list=[1, 5, 4, 6, 8, 11, 3, 12]\n",
    "new_list = set(map(lambda x:(x * 2),my_list))\n",
    "print (new_list)"
   ]
  },
  {
   "cell_type": "code",
   "execution_count": null,
   "metadata": {},
   "outputs": [],
   "source": []
  }
 ],
 "metadata": {
  "kernelspec": {
   "display_name": "Python 2",
   "language": "python",
   "name": "python2"
  },
  "language_info": {
   "codemirror_mode": {
    "name": "ipython",
    "version": 2
   },
   "file_extension": ".py",
   "mimetype": "text/x-python",
   "name": "python",
   "nbconvert_exporter": "python",
   "pygments_lexer": "ipython2",
   "version": "2.7.18"
  }
 },
 "nbformat": 4,
 "nbformat_minor": 2
}
