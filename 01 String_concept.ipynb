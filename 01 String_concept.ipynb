{
 "cells": [
  {
   "cell_type": "markdown",
   "metadata": {},
   "source": [
    "# String concept Assignment**\n",
    "\n",
    "#Q1. Given an input string wiht the combination of the\n",
    "#lower and upper case arrange character in such away that all lovercase letter should came first."
   ]
  },
  {
   "cell_type": "code",
   "execution_count": 15,
   "metadata": {},
   "outputs": [
    {
     "name": "stdout",
     "output_type": "stream",
     "text": [
      "enter the uppercase and lower case:pPyYtThHoOnN\n",
      "Arranging character letters\n",
      "pythonPYTHON\n"
     ]
    }
   ],
   "source": [
    "str = raw_input(\"enter the uppercase and lower case:\")   #raw_input because my python ver is 2.7\n",
    "lower =[] #kept an empty\n",
    "upper =[] # same as above\n",
    "for char in str:  # taken a for loop, for shorting the \"character\" str into a char\n",
    "    if char.islower(): # taken as if for ,that if char islower \n",
    "        lower.append(char) # then it append with the start lowerest thing\n",
    "    else:\n",
    "        upper.append(char) # same as above but difference that it will continue after the lower character finished, then it will stat form Uppercase\n",
    "# So iterative part is over...\n",
    "coll_string = ''.join(lower+upper) # main after iterative if call join that will join according to the user according sys.\n",
    "print (\"Arranging character letters\") # printing part\n",
    "print (coll_string) # calling the object."
   ]
  },
  {
   "cell_type": "markdown",
   "metadata": {},
   "source": [
    "# Q2. Count all lower case, upper case, digit and special symbol from a given string."
   ]
  },
  {
   "cell_type": "code",
   "execution_count": 53,
   "metadata": {},
   "outputs": [
    {
     "name": "stdout",
     "output_type": "stream",
     "text": [
      "Total count of char,digit,symbol \n",
      "\n",
      "('chars=', 0, 'digits=', 0, 'symbols=', 1)\n",
      "('chars=', 0, 'digits=', 0, 'symbols=', 2)\n",
      "('chars=', 0, 'digits=', 0, 'symbols=', 3)\n",
      "('chars=', 0, 'digits=', 0, 'symbols=', 4)\n",
      "('chars=', 0, 'digits=', 0, 'symbols=', 5)\n",
      "('chars=', 0, 'digits=', 0, 'symbols=', 6)\n",
      "('chars=', 17, 'digits=', 0, 'symbols=', 7)\n",
      "('chars=', 29, 'digits=', 9, 'symbols=', 8)\n",
      "('chars=', 29, 'digits=', 9, 'symbols=', 9)\n",
      "('chars=', 29, 'digits=', 9, 'symbols=', 10)\n",
      "('chars=', 29, 'digits=', 9, 'symbols=', 11)\n",
      "('chars=', 29, 'digits=', 9, 'symbols=', 12)\n"
     ]
    }
   ],
   "source": [
    "def findDigitsCharsSymbols(inputString): # make a function_name find_digit_symbol_character\n",
    "    charCount = 0\n",
    "    digitCount = 0     #all kept as empty\n",
    "    symbolCount = 0\n",
    "    for char in inputString:\n",
    "        if char.islower() or char.isupper():  #create the lower and upper\n",
    "            charCount = charCount+1         # howmany count for l&u\n",
    "        elif char.isdigit():\n",
    "            digitCount = digitCount + 1   #count for number ,but some of the version is not support isnumeric so its write to  is isdigit then it will show the output\n",
    "        else:\n",
    "            symbolCount= symbolCount+1          #for the symbol count\n",
    "            print(\"chars=\",charCount,\"digits=\",digitCount,\"symbols=\",symbolCount)    #print in order_manner\n",
    "\n",
    "inputString = (\"::::::PythoNProgramming@PerfectPlanB111222333:::::\")       #declare the value for the variable\n",
    "print(\"Total count of char,digit,symbol \")\n",
    "\n",
    "findDigitsCharsSymbols(inputString)            #calling the function"
   ]
  },
  {
   "cell_type": "code",
   "execution_count": null,
   "metadata": {},
   "outputs": [],
   "source": []
  },
  {
   "cell_type": "code",
   "execution_count": null,
   "metadata": {},
   "outputs": [],
   "source": []
  }
 ],
 "metadata": {
  "kernelspec": {
   "display_name": "Python 2",
   "language": "python",
   "name": "python2"
  },
  "language_info": {
   "codemirror_mode": {
    "name": "ipython",
    "version": 2
   },
   "file_extension": ".py",
   "mimetype": "text/x-python",
   "name": "python",
   "nbconvert_exporter": "python",
   "pygments_lexer": "ipython2",
   "version": "2.7.18"
  }
 },
 "nbformat": 4,
 "nbformat_minor": 2
}
