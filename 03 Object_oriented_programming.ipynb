{
 "cells": [
  {
   "cell_type": "code",
   "execution_count": 1,
   "metadata": {},
   "outputs": [],
   "source": [
    "# #Object oriented programming\n",
    "# 1.Is to design the program using classes and objects\n",
    "# 2.The object related to real world entities such as book, news pencil ets.\n",
    "# 3.The object oriented programming concepts focuses on writing the resiasable code.\n",
    "# 4.It is widespread technique to solve the program by creating an object.\n",
    "# 5.  class\n",
    "#     object\n",
    "#     method\n",
    "#     inheritance\n",
    "#     polymorphism\n",
    "#     data abstraction\n",
    "#     encapsulation"
   ]
  },
  {
   "cell_type": "code",
   "execution_count": 4,
   "metadata": {},
   "outputs": [],
   "source": [
    "# #class:\n",
    "# 1. collection of object\n",
    "# 2.logical entitie specific attribute and method  i.e an emailid, name, age.\n",
    "# 3.class is a blueprint of object.\n",
    "# 4.class came into existence when it instantiated.\n",
    "# 5.we can create as many object of this class.\n",
    "\n"
   ]
  },
  {
   "cell_type": "code",
   "execution_count": 10,
   "metadata": {},
   "outputs": [],
   "source": [
    "class student:\n",
    "    id=10\n",
    "    name=\"batman\"\n",
    "def display(self):\n",
    "    print self,id, self.name\n",
    "    \n",
    "    # ouput : 10 batman"
   ]
  },
  {
   "cell_type": "code",
   "execution_count": 11,
   "metadata": {},
   "outputs": [],
   "source": [
    "# #object: \n",
    "# 1. The object is instance of class\n",
    "# 2. Creating an object is call instantiation.\n",
    "# 3. The object is an entity that has a state and behaviour.\n",
    "# 4. Real world object : house, bike, chair table.\n",
    "# 5.Everything in python is an object and almost everything has attribute and methods .all fucntion have built-in  attribute\n",
    "# doc which return the doc string defined in the function source code.\n",
    "# 6.When we define class it needs to create an object to allocate the memory."
   ]
  },
  {
   "cell_type": "code",
   "execution_count": 35,
   "metadata": {},
   "outputs": [
    {
     "name": "stdout",
     "output_type": "stream",
     "text": [
      "('machine learning', 2021)\n"
     ]
    }
   ],
   "source": [
    "class book():\n",
    "    def __init__ (self,name,price):\n",
    "        self.name = name\n",
    "        self.price = price\n",
    "    def display (self):\n",
    "        print(self.name, self.price)\n",
    "bk=book(\"machine learning\",2021)\n",
    "bk.display()"
   ]
  },
  {
   "cell_type": "code",
   "execution_count": null,
   "metadata": {},
   "outputs": [],
   "source": [
    "# #Constructor:\n",
    "# A construction is a special type of method (function) which si used to initialize the instance membe of the class\n",
    "# In C++ or java the constructor has the same name as its class, but it treate constructor differently in python, it is used to create an object.\n",
    "# There are 2 types\n",
    "# Parameterized and non- parameterized\n"
   ]
  },
  {
   "cell_type": "code",
   "execution_count": 30,
   "metadata": {},
   "outputs": [
    {
     "name": "stdout",
     "output_type": "stream",
     "text": [
      "id: 101 \n",
      " Name: balwant\n",
      "id: 102 \n",
      " Name: raki\n"
     ]
    }
   ],
   "source": [
    "class student:\n",
    "    def __init__ (self,name,id):\n",
    "        self.name = name\n",
    "        self.id = id\n",
    "    def display(self):\n",
    "        print (\"id: %d \\n Name: %s\" %(self.id, self.name))\n",
    "s1 = student(\"balwant\",101)\n",
    "s2 = student(\"raki\",102)\n",
    "s1.display()\n",
    "s2.display()"
   ]
  },
  {
   "cell_type": "code",
   "execution_count": 6,
   "metadata": {},
   "outputs": [],
   "source": [
    "#Counting the number of object of a class\n",
    "class student():\n",
    "    count=0\n",
    "    def __init__ (self):\n",
    "        student.count+1\n",
    "        s1.student()\n",
    "        s2.student()\n",
    "        s3.student()\n",
    "        print (\"the number of student :\", student.count)"
   ]
  },
  {
   "cell_type": "code",
   "execution_count": 4,
   "metadata": {},
   "outputs": [
    {
     "name": "stdout",
     "output_type": "stream",
     "text": [
      "this is non parameterized construction\n",
      "('Hello', 'batman')\n"
     ]
    }
   ],
   "source": [
    "# Python Non parameterized construction:\n",
    "# Is use when we do not want to manipulate the value or the constructor that has only self as an argument.\n",
    "\n",
    "class student:\n",
    "    def __init__ (self):\n",
    "        print(\"this is non parameterized construction\")\n",
    "    def show (self, name):\n",
    "        print(\"Hello\",name)\n",
    "        \n",
    "student = student() # call the class \n",
    "student.show(\"batman\") # call the method iform the class.\n",
    "       "
   ]
  },
  {
   "cell_type": "code",
   "execution_count": 7,
   "metadata": {},
   "outputs": [
    {
     "name": "stdout",
     "output_type": "stream",
     "text": [
      "this is parameterized construction\n",
      "('hellow', 'hojona')\n"
     ]
    }
   ],
   "source": [
    "#Parameterized constructor:\n",
    "# it has multiple parameter along with the self consider.\n",
    "\n",
    "class student:\n",
    "    def __init__ (self, name):\n",
    "        print (\"this is parameterized construction\")\n",
    "        self.name = name\n",
    "    def show (self):\n",
    "        print (\"hellow\", self.name)\n",
    "student =student (\"hojona\")\n",
    "student.show()"
   ]
  },
  {
   "cell_type": "code",
   "execution_count": 9,
   "metadata": {},
   "outputs": [],
   "source": [
    "# # Review the difference between Parameterized and non-Parameterized\n",
    "# #.....................whle creating the constructor and parameter............................\n",
    "\n",
    "# 1. def __init__ (self):\n",
    "#         print(\"this is non parameterized construction\") # NOn- parameterized\n",
    "# 1.def __init__ (self, name):\n",
    "#         print (\"this is parameterized construction\") # parameterized\n",
    "\n",
    "# #.......................while in the second : assigning a value.............................................. \n",
    "\n",
    "\n",
    "# 2.def show (self, name):\n",
    "#         print(\"Hello\",name)    #Non -parameterized\n",
    "        \n",
    "# 2.def show (self):\n",
    "#         print (\"hello\", self.name) # Parameterized\n",
    "\n",
    "# #.................while calling the class and print method.................................\n",
    "\n",
    "\n",
    "# 3.student = student() # NOn -parameterized \n",
    "# student.show(\"batman\")  \n",
    "\n",
    "# 3.student = student (\"hojona\") # parameterized\n",
    "# student.show()"
   ]
  },
  {
   "cell_type": "code",
   "execution_count": 13,
   "metadata": {},
   "outputs": [
    {
     "name": "stdout",
     "output_type": "stream",
     "text": [
      "dog  bark\n",
      "animal  speak\n"
     ]
    }
   ],
   "source": [
    "# # INheritance:\n",
    "# A class can inherit multiple classes by mentioning all of them inside the bracket.\n",
    "\n",
    "class animal:\n",
    "    def speak(self):\n",
    "        print (\"animal  speak\")\n",
    "class dog(animal):\n",
    "    def bark(self):\n",
    "        print(\"dog  bark\")\n",
    "d=dog()\n",
    "d.bark()\n",
    "d.speak()\n"
   ]
  },
  {
   "cell_type": "code",
   "execution_count": 16,
   "metadata": {},
   "outputs": [
    {
     "name": "stdout",
     "output_type": "stream",
     "text": [
      "animal speak\n",
      "dog bARK\n",
      "eating bread and chicken\n"
     ]
    }
   ],
   "source": [
    "# #Multi-level inheritance:\n",
    "# when derived class inherits another derived class there is no limit on the number the multileverl ingeritance si archieved in python\n",
    "\n",
    "class animal:\n",
    "    def speak(self):\n",
    "        print(\"animal speak\")\n",
    "class dog(animal):\n",
    "    def bark(self):\n",
    "        print (\"dog bARK\")\n",
    "class dogchild(dog):\n",
    "    def eat (self):\n",
    "        print ('eating bread and chicken')\n",
    "d=dogchild()\n",
    "d.speak()\n",
    "d.bark()\n",
    "d.eat()"
   ]
  },
  {
   "cell_type": "code",
   "execution_count": 17,
   "metadata": {},
   "outputs": [
    {
     "name": "stdout",
     "output_type": "stream",
     "text": [
      "30\n",
      "200\n",
      "0\n"
     ]
    }
   ],
   "source": [
    "# #Multiple inheritance:\n",
    "# Flexibility to inherit multiple base classes in the child class\n",
    "\n",
    "class calculation:\n",
    "    def summation(self,a,b):\n",
    "        return a+b\n",
    "class calculation2:\n",
    "    def multiplication(self,a,b):\n",
    "        return a*b\n",
    "class derived(calculation, calculation2):\n",
    "    def divide(self,a,b):\n",
    "        return a/b\n",
    "d=derived()\n",
    "print(d.summation(10,20))\n",
    "print (d.multiplication(10,20))\n",
    "print (d.divide(10,20))"
   ]
  },
  {
   "cell_type": "code",
   "execution_count": 20,
   "metadata": {},
   "outputs": [
    {
     "name": "stdout",
     "output_type": "stream",
     "text": [
      "True\n",
      "False\n"
     ]
    }
   ],
   "source": [
    "#the issubclass(sub,sup) method:\n",
    "#is used to check the relationship between the specified classes.\n",
    "#it return true if the first class is the subclass of the second class and false otherwise.\n",
    "\n",
    "class calculation:\n",
    "    def summation(self,a,b):\n",
    "        return a+b\n",
    "class calculation2:\n",
    "    def multiplication(self,a,b):\n",
    "        return a*b\n",
    "class derived(calculation, calculation2):\n",
    "    def divide(self,a,b):\n",
    "        return a/b\n",
    "d=derived()\n",
    "print (issubclass(derived,calculation2)) # is stating that , the derived one is deriving the other class or not \"calculation2\" is base class .\n",
    "print (issubclass(calculation,calculation2)) # in this stating that is not deriving at all .calculation is not deriving the calculation2"
   ]
  },
  {
   "cell_type": "code",
   "execution_count": 21,
   "metadata": {},
   "outputs": [
    {
     "name": "stdout",
     "output_type": "stream",
     "text": [
      "True\n"
     ]
    }
   ],
   "source": [
    "#isinstance (object,class) method.\n",
    "#check the relationship between object and class.\n",
    "# it return true if the first parameter i.e object is the instance of the second parameter i.e class.\n",
    "\n",
    "class calculation:\n",
    "    def summation(self,a,b):\n",
    "        return a+b\n",
    "class calculation2:\n",
    "    def multiplication(self,a,b):\n",
    "        return a*b\n",
    "class derived(calculation, calculation2):\n",
    "    def divide(self,a,b):\n",
    "        return a/b\n",
    "d=derived()\n",
    "print(isinstance(d,derived)) # in this is stating that isinstance is used to chech the object is calling the class or not."
   ]
  },
  {
   "cell_type": "code",
   "execution_count": 27,
   "metadata": {},
   "outputs": [
    {
     "name": "stdout",
     "output_type": "stream",
     "text": [
      "('bank rate of interest:', 30)\n",
      "('Sbi rate of interest:', 30)\n",
      "('icici rate of interest:', 30)\n"
     ]
    }
   ],
   "source": [
    "#method overloading\n",
    "\n",
    "\n",
    "class bank:\n",
    "    def getroi(self):\n",
    "        return 10\n",
    "class Sbi(bank):\n",
    "    def getroi(self):\n",
    "        return 20\n",
    "class icici(bank):\n",
    "    def getroi(self):\n",
    "        return 30\n",
    "b1= bank()\n",
    "b2= Sbi()\n",
    "b3= icici()\n",
    "print ('bank rate of interest:',b1.getroi())\n",
    "print ('Sbi rate of interest:',b2.getroi())\n",
    "print ('icici rate of interest:',b3.getroi())"
   ]
  },
  {
   "cell_type": "code",
   "execution_count": null,
   "metadata": {},
   "outputs": [],
   "source": []
  }
 ],
 "metadata": {
  "kernelspec": {
   "display_name": "Python 2",
   "language": "python",
   "name": "python2"
  },
  "language_info": {
   "codemirror_mode": {
    "name": "ipython",
    "version": 2
   },
   "file_extension": ".py",
   "mimetype": "text/x-python",
   "name": "python",
   "nbconvert_exporter": "python",
   "pygments_lexer": "ipython2",
   "version": "2.7.18"
  }
 },
 "nbformat": 4,
 "nbformat_minor": 2
}
